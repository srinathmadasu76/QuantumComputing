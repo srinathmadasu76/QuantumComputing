{
 "cells": [
  {
   "cell_type": "code",
   "execution_count": 1,
   "metadata": {},
   "outputs": [],
   "source": [
    "from qiskit import *"
   ]
  },
  {
   "cell_type": "code",
   "execution_count": 2,
   "metadata": {},
   "outputs": [],
   "source": [
    "%matplotlib inline\n",
    "from qiskit.tools.visualization import plot_histogram"
   ]
  },
  {
   "cell_type": "code",
   "execution_count": 3,
   "metadata": {},
   "outputs": [],
   "source": [
    "secretnumber = '101010000001111110110101010101101000000000000000000000000000000011111111111111111111111111111110000110101010101010011111111111111111111111111111111111111111111111111111111111111111111111111111111111111111111111111111111111111111111111101010101010011111111111111111111111111111111111111111111111111111111111111111111111111111111111111111111111111111111111111111111111111111111111111111111111111111111111111111111111111111111111111111111111111111111111111111111111111101100110101010101010101010010101010010101001010101010000000000000000000000000000000000000000000000000000000000000000000000000000000000000'"
   ]
  },
  {
   "cell_type": "code",
   "execution_count": 4,
   "metadata": {},
   "outputs": [
    {
     "data": {
      "text/plain": [
       "<qiskit.circuit.instructionset.InstructionSet at 0x26e90f4cac8>"
      ]
     },
     "execution_count": 4,
     "metadata": {},
     "output_type": "execute_result"
    }
   ],
   "source": [
    "circuit = QuantumCircuit(len(secretnumber)+1,len(secretnumber))\n",
    "#circuit.h([0,1,2,3,4,5])\n",
    "circuit.h(range(len(secretnumber)))\n",
    "circuit.x(len(secretnumber))\n",
    "circuit.h(len(secretnumber))\n",
    "circuit.barrier()\n",
    "for ii,yesno in enumerate(reversed(secretnumber)):\n",
    "    if yesno=='1':\n",
    "        circuit.cx(ii,len(secretnumber))\n",
    "#.cx(5, 6)\n",
    "#circuit.cx(3, 6)\n",
    "#circuit.cx(0, 6)\n",
    "circuit.barrier()\n",
    "circuit.h(range(len(secretnumber)))\n",
    "circuit.barrier()\n",
    "circuit.measure(range(len(secretnumber)), range(len(secretnumber)))"
   ]
  },
  {
   "cell_type": "code",
   "execution_count": null,
   "metadata": {},
   "outputs": [],
   "source": [
    "circuit.draw(output='mpl')"
   ]
  },
  {
   "cell_type": "code",
   "execution_count": 5,
   "metadata": {},
   "outputs": [
    {
     "name": "stdout",
     "output_type": "stream",
     "text": [
      "{'101010000001111110110101010101101000000000000000000000000000000011111111111111111111111111111110000110101010101010011111111111111111111111111111111111111111111111111111111111111111111111111111111111111111111111111111111111111111111111101010101010011111111111111111111111111111111111111111111111111111111111111111111111111111111111111111111111111111111111111111111111111111111111111111111111111111111111111111111111111111111111111111111111111111111111111111111111111101100110101010101010101010010101010010101001010101010000000000000000000000000000000000000000000000000000000000000000000000000000000000000': 1}\n"
     ]
    }
   ],
   "source": [
    "simulator = Aer.get_backend('qasm_simulator')\n",
    "result = execute(circuit,backend=simulator,shots=1).result()\n",
    "counts = result.get_counts()\n",
    "print(counts)"
   ]
  },
  {
   "cell_type": "code",
   "execution_count": null,
   "metadata": {},
   "outputs": [],
   "source": []
  }
 ],
 "metadata": {
  "kernelspec": {
   "display_name": "Python 3",
   "language": "python",
   "name": "python3"
  },
  "language_info": {
   "codemirror_mode": {
    "name": "ipython",
    "version": 3
   },
   "file_extension": ".py",
   "mimetype": "text/x-python",
   "name": "python",
   "nbconvert_exporter": "python",
   "pygments_lexer": "ipython3",
   "version": "3.7.6"
  }
 },
 "nbformat": 4,
 "nbformat_minor": 4
}
